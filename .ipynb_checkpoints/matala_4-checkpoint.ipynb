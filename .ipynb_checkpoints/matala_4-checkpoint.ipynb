{
 "cells": [
  {
   "cell_type": "markdown",
   "metadata": {},
   "source": [
    "# מטלה 4 "
   ]
  },
  {
   "cell_type": "markdown",
   "metadata": {},
   "source": [
    "## העלאת הקובץ היעדים לפייתון"
   ]
  },
  {
   "cell_type": "code",
   "execution_count": 3,
   "metadata": {},
   "outputs": [],
   "source": [
    "import requests\n",
    "import time\n",
    "import operator\n",
    "\n",
    "with open(\"dests.txt\", 'r' , encoding='utf-8') as file:\n",
    "    text =file.readlines()\n",
    "    file.close()"
   ]
  },
  {
   "cell_type": "markdown",
   "metadata": {},
   "source": [
    "## בניית נטיב URL "
   ]
  },
  {
   "cell_type": "code",
   "execution_count": 8,
   "metadata": {
    "scrolled": true
   },
   "outputs": [
    {
     "name": "stdout",
     "output_type": "stream",
     "text": [
      "Insert key API : a\n"
     ]
    }
   ],
   "source": [
    "#  API צריך להכניס לפה את המפתח\n",
    "api_key = input(\"Insert key API : \")\n",
    "url_1 = \"https://maps.googleapis.com/maps/api/distancematrix/json?origins=\"\n",
    "address1=\"אוניברסיטת תל אביב\"\n",
    "url_2 = \"&destinations=\"\n",
    "url_3 = \"&mode=car&key=\""
   ]
  },
  {
   "cell_type": "markdown",
   "metadata": {},
   "source": [
    "## בניית נטיב ליעדים ושליפת נתונים לצורך התרגיל"
   ]
  },
  {
   "cell_type": "code",
   "execution_count": 5,
   "metadata": {},
   "outputs": [],
   "source": [
    "all_destination_dict=dict()\n",
    "\n",
    "\n",
    "for address2 in text:\n",
    "    full_url= url_1+address1+url_2+address2+url_3+api_key\n",
    "    response_matrix = requests.get(full_url).json()\n",
    "    try:\n",
    "        Time_drive=time.strftime(\"%H:%M\" ,time.gmtime(response_matrix[\"rows\"][0][\"elements\"][0][\"duration\"][\"value\"]))\n",
    "        Distance_M=(response_matrix[\"rows\"][0][\"elements\"][0][\"distance\"][\"value\"])\n",
    "        url_geocode =\"https://maps.googleapis.com/maps/api/geocode/json?address=%s&key=%s\" % (address2,api_key)\n",
    "        response_geocode = requests.get(url_geocode).json()\n",
    "        latitude=response_geocode[\"results\"][0][\"geometry\"][\"location\"][\"lat\"]\n",
    "        longitude=response_geocode[\"results\"][0][\"geometry\"][\"location\"][\"lng\"]\n",
    "        all_destination_dict[address2.strip()]=(Distance_M,Time_drive,longitude,latitude)\n",
    "    except:\n",
    "        print(\"******ERROR******\")\n",
    "        print(\"שגיאה בעיר : \"+address2)\n",
    "    "
   ]
  },
  {
   "cell_type": "markdown",
   "metadata": {},
   "source": [
    "## הדפסה של הנתונים "
   ]
  },
  {
   "cell_type": "code",
   "execution_count": 6,
   "metadata": {
    "scrolled": false
   },
   "outputs": [
    {
     "name": "stdout",
     "output_type": "stream",
     "text": [
      " איסטנבול  --->  מרחק:  1809.478 KM זמן הגעה: 20:23  קו אורך: 28.9783589  קו רוחב: 41.0082376\n",
      " אמסטרדם  --->  מרחק:  4522.567 KM זמן הגעה: 23:17  קו אורך: 4.9041389  קו רוחב: 52.3675734\n",
      " ולטה  --->  מרחק:  3789.644 KM זמן הגעה: 02:31  קו אורך: 14.5145528  קו רוחב: 35.8989085\n",
      " בזל  --->  מרחק:  4087.269 KM זמן הגעה: 19:26  קו אורך: 7.5885761  קו רוחב: 47.5595986\n",
      " קוטור  --->  מרחק:  3009.77 KM זמן הגעה: 11:27  קו אורך: 18.771234  קו רוחב: 42.424662\n"
     ]
    }
   ],
   "source": [
    "for  key, value in all_destination_dict.items():\n",
    "    print( f\" {key}  --->  מרחק:  {(value[0]/1000)} KM זמן הגעה: {value[1]}  קו אורך: {value[2]}  קו רוחב: {value[3]}\")"
   ]
  },
  {
   "cell_type": "markdown",
   "metadata": {},
   "source": [
    "## שלושת היעדים הכי רחוקים בתל אביב "
   ]
  },
  {
   "cell_type": "code",
   "execution_count": 7,
   "metadata": {
    "scrolled": true
   },
   "outputs": [
    {
     "name": "stdout",
     "output_type": "stream",
     "text": [
      "***שלושת הערים הכי רחוקות מתל אביב***\n",
      " העיר:  אמסטרדם במרחק: 4522567 מטר \n",
      " העיר:  ולטה במרחק: 3789644 מטר \n",
      " העיר:  בזל במרחק: 4087269 מטר \n"
     ]
    }
   ],
   "source": [
    "sort_list=list()\n",
    "for  key, value in all_destination_dict.items():\n",
    "    sort_list.append(value[0])\n",
    "sort_list.sort()\n",
    "\n",
    "print(\"***שלושת הערים הכי רחוקות מתל אביב***\")\n",
    "for  key, value in all_destination_dict.items():\n",
    "    if value[0] in sort_list[-3:]:\n",
    "        print(f\" העיר:  {key} במרחק: {value[0]} מטר \")\n",
    "    \n",
    "    \n",
    "    "
   ]
  }
 ],
 "metadata": {
  "kernelspec": {
   "display_name": "Python 3",
   "language": "python",
   "name": "python3"
  },
  "language_info": {
   "codemirror_mode": {
    "name": "ipython",
    "version": 3
   },
   "file_extension": ".py",
   "mimetype": "text/x-python",
   "name": "python",
   "nbconvert_exporter": "python",
   "pygments_lexer": "ipython3",
   "version": "3.8.3"
  }
 },
 "nbformat": 4,
 "nbformat_minor": 4
}
